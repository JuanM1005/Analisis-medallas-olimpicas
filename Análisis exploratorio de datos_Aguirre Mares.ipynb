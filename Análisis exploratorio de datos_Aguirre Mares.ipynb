{
 "cells": [
  {
   "cell_type": "markdown",
   "id": "3617c7cc-e2c3-4e24-a793-15d717c6ca2f",
   "metadata": {},
   "source": [
    "# Proyecto del Día 6 - Análisis de Medallas Olímpicas\n",
    "### Aguirre Mares Juan Antonio\n",
    "Objetivo\n",
    "Realizar un análisis exploratorio de datos (EDA) sobre un conjunto de datos de medallas olímpicas utilizando Pandas. Este proyecto te permitirá aplicar los conceptos aprendidos sobre Series, DataFrames, limpieza de datos, operaciones básicas, filtrado y agregación en Pandas.\n",
    "\n",
    "Consigna\n",
    "Vas a trabajar con el conjunto de datos medallas.csv, que descargarás de la lección Proyecto del Día 6, y que incluye información sobre las medallas de oro, plata, bronce y el total obtenido por cada país en los Juegos Olímpicos.\n",
    "\n",
    "Vas a realizar una serie de tareas básicas, que te permitirán responder a las preguntas del cuestionario que encontrarás al final del día. Las tareas que realizarás son:\n",
    "\n",
    "Cargar los Datos: Importar los datos desde el archivo CSV a un DataFrame de Pandas."
   ]
  },
  {
   "cell_type": "code",
   "execution_count": 9,
   "id": "feb736d3-11f2-4cd3-ac32-fea51af20a4b",
   "metadata": {},
   "outputs": [
    {
     "name": "stdout",
     "output_type": "stream",
     "text": [
      "     Oro  Plata  Bronce  Total          Pais\n",
      "0    NaN    1.0     2.0      3     Argentina\n",
      "1    NaN    2.0     2.0      4       Armenia\n",
      "2   17.0    7.0    22.0     46     Australia\n",
      "3    1.0    1.0     5.0      7       Austria\n",
      "4    NaN    3.0     4.0      7    Azerbaijan\n",
      "..   ...    ...     ...    ...           ...\n",
      "88   NaN    1.0     NaN      1  Turkmenistan\n",
      "89   2.0    1.0     1.0      4        Uganda\n",
      "90   1.0    6.0    12.0     19       Ukraine\n",
      "91   3.0    NaN     2.0      5    Uzbekistan\n",
      "92   1.0    3.0     NaN      4     Venezuela\n",
      "\n",
      "[93 rows x 5 columns]\n"
     ]
    }
   ],
   "source": [
    "import pandas as pd\n",
    "\n",
    "# Se importa el archivo csv y se lee en un DataFrame\n",
    "medallas = pd.read_csv(\"C:/Users/thete/Downloads/medallas.csv\")\n",
    "print(medallas)"
   ]
  },
  {
   "cell_type": "markdown",
   "id": "1d60fa2b-a9cc-48ac-8758-29122fae50fe",
   "metadata": {},
   "source": [
    "### Exploración Inicial: \n",
    "Utilizar métodos básicos para explorar el tamaño, las columnas y los tipos de datos del DataFrame."
   ]
  },
  {
   "cell_type": "code",
   "execution_count": 2,
   "id": "bfa110fc-1109-4fd9-aac4-9e81ea28a8bd",
   "metadata": {},
   "outputs": [
    {
     "name": "stdout",
     "output_type": "stream",
     "text": [
      "\n",
      "Información del DataFrame:\n",
      "<class 'pandas.core.frame.DataFrame'>\n",
      "RangeIndex: 93 entries, 0 to 92\n",
      "Data columns (total 5 columns):\n",
      " #   Column  Non-Null Count  Dtype  \n",
      "---  ------  --------------  -----  \n",
      " 0   Oro     65 non-null     float64\n",
      " 1   Plata   69 non-null     float64\n",
      " 2   Bronce  76 non-null     float64\n",
      " 3   Total   93 non-null     int64  \n",
      " 4   Pais    93 non-null     object \n",
      "dtypes: float64(3), int64(1), object(1)\n",
      "memory usage: 3.8+ KB\n",
      "\n",
      "Tamanio del DataFrame: (93, 5)\n",
      "Columnas: Index(['Oro', 'Plata', 'Bronce', 'Total', 'Pais'], dtype='object')\n",
      "Tipos de datos: \n",
      "Oro       float64\n",
      "Plata     float64\n",
      "Bronce    float64\n",
      "Total       int64\n",
      "Pais       object\n",
      "dtype: object\n"
     ]
    }
   ],
   "source": [
    "# Mostrar información general del DataFrame\n",
    "print(\"\\nInformación del DataFrame:\")\n",
    "medallas.info()\n",
    "# Numero de filas y columnas\n",
    "print(f\"\\nTamanio del DataFrame: {medallas.shape}\")\n",
    "# Nombre de columnas\n",
    "print(f\"Columnas: {medallas.columns}\")\n",
    "# Tipos de datos de los valores del DataFrame\n",
    "print(f\"Tipos de datos: \\n{medallas.dtypes}\")"
   ]
  },
  {
   "cell_type": "markdown",
   "id": "27546be4-1f79-4ec5-9d46-cbc15d5a38d0",
   "metadata": {},
   "source": [
    "### Limpieza de Datos: \n",
    "Identificar y manejar valores faltantes o incorrectos, especialmente en las columnas de medallas donde los valores faltantes indican cero medallas."
   ]
  },
  {
   "cell_type": "code",
   "execution_count": 3,
   "id": "fa852877-4e4c-4fd4-9494-c7472cdc9869",
   "metadata": {},
   "outputs": [
    {
     "name": "stdout",
     "output_type": "stream",
     "text": [
      "      Oro  Plata  Bronce  Total   Pais\n",
      "0    True  False   False  False  False\n",
      "1    True  False   False  False  False\n",
      "2   False  False   False  False  False\n",
      "3   False  False   False  False  False\n",
      "4    True  False   False  False  False\n",
      "..    ...    ...     ...    ...    ...\n",
      "88   True  False    True  False  False\n",
      "89  False  False   False  False  False\n",
      "90  False  False   False  False  False\n",
      "91  False   True   False  False  False\n",
      "92  False  False    True  False  False\n",
      "\n",
      "[93 rows x 5 columns]\n"
     ]
    }
   ],
   "source": [
    "# IDENTIFICAMOS LOS VALORES NULOS POR MEDIO DE VALORES BOOLEANOS\n",
    "print(medallas.isnull())"
   ]
  },
  {
   "cell_type": "code",
   "execution_count": 4,
   "id": "df4a924e-14c7-4720-b56a-3b0bf2d44556",
   "metadata": {},
   "outputs": [
    {
     "name": "stdout",
     "output_type": "stream",
     "text": [
      "Numero total de valores NaN (nulos): \n",
      "Oro       28\n",
      "Plata     24\n",
      "Bronce    17\n",
      "Total      0\n",
      "Pais       0\n",
      "dtype: int64\n"
     ]
    }
   ],
   "source": [
    "print(f\"Numero total de valores NaN (nulos): \\n{medallas.isnull().sum()}\")"
   ]
  },
  {
   "cell_type": "code",
   "execution_count": 5,
   "id": "270a4e06-02b6-4b15-85aa-59e2ee093eb7",
   "metadata": {},
   "outputs": [
    {
     "name": "stdout",
     "output_type": "stream",
     "text": [
      "     Oro  Plata  Bronce  Total          Pais\n",
      "0    0.0    1.0     2.0      3     Argentina\n",
      "1    0.0    2.0     2.0      4       Armenia\n",
      "2   17.0    7.0    22.0     46     Australia\n",
      "3    1.0    1.0     5.0      7       Austria\n",
      "4    0.0    3.0     4.0      7    Azerbaijan\n",
      "..   ...    ...     ...    ...           ...\n",
      "88   0.0    1.0     0.0      1  Turkmenistan\n",
      "89   2.0    1.0     1.0      4        Uganda\n",
      "90   1.0    6.0    12.0     19       Ukraine\n",
      "91   3.0    0.0     2.0      5    Uzbekistan\n",
      "92   1.0    3.0     0.0      4     Venezuela\n",
      "\n",
      "[93 rows x 5 columns]\n"
     ]
    }
   ],
   "source": [
    "# Se rellenan los valores nulos con 0 y se modifica el DataFrame original con inplace = True\n",
    "medallas.fillna(0, inplace = True)\n",
    "print(medallas)"
   ]
  },
  {
   "cell_type": "code",
   "execution_count": 6,
   "id": "c0ad0247-938a-4a73-aec1-847859c9059e",
   "metadata": {},
   "outputs": [
    {
     "name": "stdout",
     "output_type": "stream",
     "text": [
      "<class 'pandas.core.frame.DataFrame'>\n",
      "RangeIndex: 93 entries, 0 to 92\n",
      "Data columns (total 5 columns):\n",
      " #   Column  Non-Null Count  Dtype  \n",
      "---  ------  --------------  -----  \n",
      " 0   Oro     93 non-null     float64\n",
      " 1   Plata   93 non-null     float64\n",
      " 2   Bronce  93 non-null     float64\n",
      " 3   Total   93 non-null     int64  \n",
      " 4   Pais    93 non-null     object \n",
      "dtypes: float64(3), int64(1), object(1)\n",
      "memory usage: 3.8+ KB\n"
     ]
    }
   ],
   "source": [
    "# Verificamos si aún hay valores nulos\n",
    "medallas.info()"
   ]
  },
  {
   "cell_type": "markdown",
   "id": "08f07d59-1fab-4b4c-abc0-4b8dc9d1f75f",
   "metadata": {},
   "source": [
    "### Análisis de Medallas de Oro por País: \n",
    "Realiza las operaciones que sean necesarias para identificar cuáles fueron los 3 países con más medallas de Oro en total (vas a necesitar investigar los métodos de dataframes para encontrar cuál te permite ordenar los valores de mayor a menor o viceversa)."
   ]
  },
  {
   "cell_type": "code",
   "execution_count": 7,
   "id": "53e75bcc-cedc-4711-9b2b-f09303a82b69",
   "metadata": {},
   "outputs": [
    {
     "name": "stdout",
     "output_type": "stream",
     "text": [
      "     Oro  Plata  Bronce  Total                        Pais\n",
      "25  39.0   41.0    33.0    113   Estados Unidos de America\n",
      "72  38.0   32.0    18.0     88  Republica Popular de China\n",
      "46  27.0   14.0    17.0     58                       Japon\n",
      "34  22.0   21.0    22.0     65                Gran Bretana\n",
      "2   17.0    7.0    22.0     46                   Australia\n",
      "..   ...    ...     ...    ...                         ...\n",
      "62   0.0    1.0     1.0      2                     Nigeria\n",
      "63   0.0    1.0     0.0      1             North Macedonia\n",
      "75   0.0    1.0     2.0      3                  San Marino\n",
      "84   0.0    0.0     1.0      1        Syrian Arab Republic\n",
      "88   0.0    1.0     0.0      1                Turkmenistan\n",
      "\n",
      "[93 rows x 5 columns]\n"
     ]
    }
   ],
   "source": [
    "# Ordenamos por el metodo de sort_values() segun los criterios necesarios \n",
    "# Por cla columna de oro y no ascendente\n",
    "medallas_ordenado = medallas.sort_values(by = \"Oro\", ascending = False)\n",
    "print(medallas_ordenado)"
   ]
  },
  {
   "cell_type": "code",
   "execution_count": 8,
   "id": "8277bbd8-4a8e-4fce-abab-1de19487770b",
   "metadata": {},
   "outputs": [
    {
     "name": "stdout",
     "output_type": "stream",
     "text": [
      "                          Pais   Oro\n",
      "25   Estados Unidos de America  39.0\n",
      "72  Republica Popular de China  38.0\n",
      "46                       Japon  27.0\n"
     ]
    }
   ],
   "source": [
    "# Mostrar los 3 paises con mas medallas de oro\n",
    "print(medallas_ordenado[[\"Pais\", \"Oro\"]].head(3))"
   ]
  },
  {
   "cell_type": "markdown",
   "id": "2849f1a7-05b0-46e6-9ec5-ad72b0183f66",
   "metadata": {},
   "source": [
    "### Análisis de Medallas Totales por País: \n",
    "Obtener un dataframe que contenga sólo los países que ganaron más de 10 medallas en total.\n",
    "\n"
   ]
  },
  {
   "cell_type": "code",
   "execution_count": null,
   "id": "4110bdae-638f-406a-b8fb-ddc92dc700fe",
   "metadata": {},
   "outputs": [],
   "source": [
    "# Se aplica un filtro en la columna total donde las medallas totales sean mayores a 10\n",
    "medallas_top_10 = medallas[medallas[\"Total\"] > 10]\n",
    "# Se ordena de mayor a menor\n",
    "medallas_top_10 = medallas_top_10.sort_values(by = \"Total\", ascending = False)\n",
    "print(medallas_top_10[[\"Pais\", \"Total\"]])"
   ]
  },
  {
   "cell_type": "markdown",
   "id": "f7fbd14d-9656-46e5-889a-64f327d4c3cf",
   "metadata": {},
   "source": [
    "Una vez que hayas realizado estos pasos, realiza el cuestionario del día, que contiene preguntas que solo podrás responder tras haber explorado los datos siguiendo los pasos anteriores.\n",
    "\n",
    "¡Mucha suerte!"
   ]
  }
 ],
 "metadata": {
  "kernelspec": {
   "display_name": "Python [conda env:base] *",
   "language": "python",
   "name": "conda-base-py"
  },
  "language_info": {
   "codemirror_mode": {
    "name": "ipython",
    "version": 3
   },
   "file_extension": ".py",
   "mimetype": "text/x-python",
   "name": "python",
   "nbconvert_exporter": "python",
   "pygments_lexer": "ipython3",
   "version": "3.13.5"
  }
 },
 "nbformat": 4,
 "nbformat_minor": 5
}
